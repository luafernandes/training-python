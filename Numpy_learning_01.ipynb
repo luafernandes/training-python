{
  "cells": [
    {
      "cell_type": "code",
      "execution_count": null,
      "metadata": {
        "id": "W1vf_tektt89"
      },
      "outputs": [],
      "source": [
        "import numpy as np"
      ]
    },
    {
      "cell_type": "markdown",
      "metadata": {
        "id": "b_Sb2yk-t6DC"
      },
      "source": [
        "# Array\n",
        "\n",
        "Um array é um conjunto de dados que podem estar dispostos em dimensões diferentes.\n",
        "\n",
        "Tipos de Arrays:\n",
        "- ndarrays -> são arrays com N dimensões\n",
        "- 1-D array - > possui apenas uma dimensão, comumente chamados de vetor (vector)\n",
        "- 2-D array - > possui duas dimensões, comumente chamados de matriz (matrix)\n",
        "- 3-D array - > possui três dimensões, comumente chamados de tensor\n",
        "\n",
        "\n"
      ]
    },
    {
      "cell_type": "markdown",
      "metadata": {
        "id": "EEKsvX8qu4Zo"
      },
      "source": [
        "## Criando um array\n",
        "**np.array ()**"
      ]
    },
    {
      "cell_type": "code",
      "execution_count": null,
      "metadata": {
        "colab": {
          "base_uri": "https://localhost:8080/"
        },
        "id": "fOByoBuEvDRQ",
        "outputId": "72dd1b3e-98f7-417c-fab0-e86c54967680"
      },
      "outputs": [
        {
          "name": "stdout",
          "output_type": "stream",
          "text": [
            "[[ 1  2  3  4  5]\n",
            " [ 6  7  8  9 10]]\n",
            "<class 'numpy.ndarray'>\n"
          ]
        }
      ],
      "source": [
        "arr1 = np.array([[1,2,3,4,5],[6,7,8,9,10]])\n",
        "\n",
        "print(arr1)\n",
        "print(type(arr1))"
      ]
    },
    {
      "cell_type": "markdown",
      "metadata": {
        "id": "Qd6E5v56vioN"
      },
      "source": [
        "É possível criar um array de zeros: **np.zeros()**"
      ]
    },
    {
      "cell_type": "code",
      "execution_count": null,
      "metadata": {
        "colab": {
          "base_uri": "https://localhost:8080/"
        },
        "id": "3_hGk746wCwv",
        "outputId": "486be651-1bd3-42c9-81b7-4f5638bda08f"
      },
      "outputs": [
        {
          "name": "stdout",
          "output_type": "stream",
          "text": [
            "[[[0. 0. 0. 0. 0.]\n",
            "  [0. 0. 0. 0. 0.]]\n",
            "\n",
            " [[0. 0. 0. 0. 0.]\n",
            "  [0. 0. 0. 0. 0.]]\n",
            "\n",
            " [[0. 0. 0. 0. 0.]\n",
            "  [0. 0. 0. 0. 0.]]]\n"
          ]
        }
      ],
      "source": [
        "arr_zero = np.zeros((3,2,5)) # shape = (dimensao y, dimensao x, dimensao z), pode ser escrito também como (shape = (y,x,z))\n",
        "\n",
        "print(arr_zero)"
      ]
    },
    {
      "cell_type": "markdown",
      "metadata": {
        "id": "kaPdcCUnwnqK"
      },
      "source": [
        "Array de uns: **np.ones()**"
      ]
    },
    {
      "cell_type": "code",
      "execution_count": null,
      "metadata": {
        "colab": {
          "base_uri": "https://localhost:8080/"
        },
        "id": "N3CPqccgwvVo",
        "outputId": "edd926f8-a9f0-47ae-8363-26a2d2dcce7f"
      },
      "outputs": [
        {
          "name": "stdout",
          "output_type": "stream",
          "text": [
            "[[[1. 1. 1. 1.]\n",
            "  [1. 1. 1. 1.]]\n",
            "\n",
            " [[1. 1. 1. 1.]\n",
            "  [1. 1. 1. 1.]]\n",
            "\n",
            " [[1. 1. 1. 1.]\n",
            "  [1. 1. 1. 1.]]]\n"
          ]
        }
      ],
      "source": [
        "arr_um = np.ones((3,2,4))\n",
        "\n",
        "print(arr_um)"
      ]
    },
    {
      "cell_type": "markdown",
      "metadata": {
        "id": "XxE7hLrCxTeL"
      },
      "source": [
        "Para criar um array vazio sem a inicialização de valores: **np.empty()**\n",
        "\n",
        "Serão preenchidos com os valores existentes na memória naquele momento."
      ]
    },
    {
      "cell_type": "code",
      "execution_count": null,
      "metadata": {
        "colab": {
          "base_uri": "https://localhost:8080/"
        },
        "id": "NE-4Gczxxx9a",
        "outputId": "d500981a-966d-4cb8-d0f4-2014e7339057"
      },
      "outputs": [
        {
          "name": "stdout",
          "output_type": "stream",
          "text": [
            "[[4.67861754e-310 0.00000000e+000]\n",
            " [0.00000000e+000 0.00000000e+000]\n",
            " [0.00000000e+000 0.00000000e+000]]\n"
          ]
        }
      ],
      "source": [
        "arr_vazio = np.empty((3,2))\n",
        "\n",
        "print(arr_vazio)"
      ]
    },
    {
      "cell_type": "markdown",
      "metadata": {
        "id": "MYSA0JJax7X-"
      },
      "source": [
        "Para criar um array de um determinado intervalo: **np.arange()**\n",
        "\n",
        "cria-se: np.arange([start,stop,step]) ou np.arange(stop)\n",
        "\n",
        "Ele cria respeitando a posição, caso ela não seja respeitada é necessário passar no código item a item como:\n",
        "\n",
        "np.arange(step = numero, start = numero, stop = numero)"
      ]
    },
    {
      "cell_type": "code",
      "execution_count": null,
      "metadata": {
        "colab": {
          "base_uri": "https://localhost:8080/"
        },
        "id": "83sPV0x0y1UB",
        "outputId": "9d0ebb4a-963b-4ad2-f40d-a8eb2f08abce"
      },
      "outputs": [
        {
          "name": "stdout",
          "output_type": "stream",
          "text": [
            "[0 1 2 3 4 5 6 7 8 9]\n"
          ]
        }
      ],
      "source": [
        "arr2 = np.arange(10)\n",
        "print(arr2)"
      ]
    },
    {
      "cell_type": "code",
      "execution_count": null,
      "metadata": {
        "colab": {
          "base_uri": "https://localhost:8080/"
        },
        "id": "1ElLzxVUzMWv",
        "outputId": "dd10c288-f067-4983-8460-b07bf34b7ec3"
      },
      "outputs": [
        {
          "name": "stdout",
          "output_type": "stream",
          "text": [
            "[ 1  2  3  4  5  6  7  8  9 10]\n"
          ]
        }
      ],
      "source": [
        "arr3 = np.arange(1,11)\n",
        "print(arr3)"
      ]
    },
    {
      "cell_type": "code",
      "execution_count": null,
      "metadata": {
        "colab": {
          "base_uri": "https://localhost:8080/"
        },
        "id": "kMpSnZyyzYy-",
        "outputId": "c1e5900e-a090-4f13-8b23-8a2192b342d8"
      },
      "outputs": [
        {
          "name": "stdout",
          "output_type": "stream",
          "text": [
            "[ 0  2  4  6  8 10]\n"
          ]
        }
      ],
      "source": [
        "arr4 = np.arange(0, 11, 2)\n",
        "print(arr4)"
      ]
    },
    {
      "cell_type": "code",
      "execution_count": null,
      "metadata": {
        "colab": {
          "base_uri": "https://localhost:8080/"
        },
        "id": "PPTghmhE0AVz",
        "outputId": "d31e5d60-67f7-41e7-8815-adc8e24825b6"
      },
      "outputs": [
        {
          "name": "stdout",
          "output_type": "stream",
          "text": [
            "[100 110 120 130 140 150 160 170 180 190 200 210 220 230 240 250 260 270\n",
            " 280 290 300 310 320 330 340 350 360 370 380 390 400 410 420 430 440 450\n",
            " 460 470 480 490]\n"
          ]
        }
      ],
      "source": [
        "arr5 = np.arange(step = 10, start = 100, stop = 500)\n",
        "print(arr5)"
      ]
    },
    {
      "cell_type": "markdown",
      "metadata": {
        "id": "nNi8ZXvF0T4f"
      },
      "source": [
        "É possível criar uma sequência de números uniformemente espaçados em um intervalo especificado: **np.linspace()**\n",
        "\n",
        "- Útil para criar arrays numéricos com uma quantidade específica de elementos, distribuídos de forma linear entre dois valores.\n",
        "\n",
        "Cria-se: np.linspace(start, stop, num=50, endpoint=True, retstep=False, dtype=None, axis=0)\n",
        "\n",
        "* start: Valor inicial do intervalo.\n",
        "* stop: Valor final do intervalo.\n",
        "* num: Número de elementos na sequência (padrão é 50).\n",
        "* endpoint: Se True, o valor final está incluído na sequência (padrão é True).\n",
        "* retstep: Se True, retorna o espaçamento entre os valores (padrão é False).\n",
        "* dtype: Tipo de dados dos elementos na sequência (padrão é None).\n",
        "* axis: Eixo ao longo do qual os elementos são gerados (padrão é 0)."
      ]
    },
    {
      "cell_type": "code",
      "execution_count": null,
      "metadata": {
        "colab": {
          "base_uri": "https://localhost:8080/"
        },
        "id": "ILUqqyV505SG",
        "outputId": "20a66ed5-3c03-417c-b50e-44f42d8b006a"
      },
      "outputs": [
        {
          "name": "stdout",
          "output_type": "stream",
          "text": [
            "[0.  0.5 1.  1.5 2.  2.5 3.  3.5 4.  4.5 5.  5.5 6.  6.5 7.  7.5 8.  8.5\n",
            " 9.  9.5]\n"
          ]
        }
      ],
      "source": [
        "arr_linear = np.linspace(0, 10, num = 20, endpoint = False)\n",
        "print(arr_linear)"
      ]
    },
    {
      "cell_type": "code",
      "execution_count": null,
      "metadata": {
        "colab": {
          "base_uri": "https://localhost:8080/"
        },
        "id": "1AFhb-QM2mal",
        "outputId": "80832551-8127-4189-e321-47c42f206961"
      },
      "outputs": [
        {
          "name": "stdout",
          "output_type": "stream",
          "text": [
            "[ 10.   32.5  55.   77.5 100. ]\n"
          ]
        }
      ],
      "source": [
        "arr_linear2 = np.linspace(10, 100, num = 5)\n",
        "print(arr_linear2)"
      ]
    },
    {
      "cell_type": "markdown",
      "metadata": {
        "id": "08ysxviO3EEM"
      },
      "source": [
        "## Tamanhos de um array\n",
        "\n",
        "* array.shape = para ver qual o formato do array\n",
        "* array.size = para ver a quantidade total de dados dentro do array\n",
        "* array.ndim = para ver a quantidade de dimensões do array"
      ]
    },
    {
      "cell_type": "code",
      "execution_count": null,
      "metadata": {
        "colab": {
          "base_uri": "https://localhost:8080/"
        },
        "id": "jiMfWp1H3dkX",
        "outputId": "fe295eb1-52ac-423b-c155-fbb05cb82e62"
      },
      "outputs": [
        {
          "name": "stdout",
          "output_type": "stream",
          "text": [
            "[[[1. 1. 1. 1.]\n",
            "  [1. 1. 1. 1.]]\n",
            "\n",
            " [[1. 1. 1. 1.]\n",
            "  [1. 1. 1. 1.]]\n",
            "\n",
            " [[1. 1. 1. 1.]\n",
            "  [1. 1. 1. 1.]]]\n"
          ]
        }
      ],
      "source": [
        "arr_um = np.ones((3,2,4))\n",
        "print(arr_um)"
      ]
    },
    {
      "cell_type": "code",
      "execution_count": null,
      "metadata": {
        "colab": {
          "base_uri": "https://localhost:8080/"
        },
        "id": "zOm9TmVG3hAw",
        "outputId": "c249b31d-0b15-498d-b20f-9d62c629e6b9"
      },
      "outputs": [
        {
          "name": "stdout",
          "output_type": "stream",
          "text": [
            "(3, 2, 4)\n",
            "24\n",
            "3\n"
          ]
        }
      ],
      "source": [
        "print(arr_um.shape) # formato\n",
        "print(arr_um.size) # total de dados\n",
        "print(arr_um.ndim) # quantidade de dimensões"
      ]
    },
    {
      "cell_type": "markdown",
      "metadata": {
        "id": "LWMYg4tn5SCA"
      },
      "source": [
        "## Mudar o tamanho de um array\n",
        "**np.reshape**\n",
        "\n",
        "Este comando reorganiza os elementos do array para uma nova forma especificada, sem alterar os dados contidos nele. Por exemplo, você pode usar np.reshape para converter um array unidimensional em uma matriz bidimensional ou para alterar as dimensões de uma matriz existente."
      ]
    },
    {
      "cell_type": "code",
      "execution_count": null,
      "metadata": {
        "colab": {
          "base_uri": "https://localhost:8080/"
        },
        "id": "wNgJg_Qw51cq",
        "outputId": "db41365c-dd4c-4a58-f711-97e2a39c4695"
      },
      "outputs": [
        {
          "name": "stdout",
          "output_type": "stream",
          "text": [
            "[[ 1  2  3  4  5]\n",
            " [ 6  7  8  9 10]]\n",
            "(2, 5)\n"
          ]
        }
      ],
      "source": [
        "arr1 = np.array([[1,2,3,4,5],[6,7,8,9,10]])\n",
        "print(arr1)\n",
        "print(arr1.shape)"
      ]
    },
    {
      "cell_type": "code",
      "execution_count": null,
      "metadata": {
        "colab": {
          "base_uri": "https://localhost:8080/"
        },
        "id": "fiNXe6wp6F-V",
        "outputId": "7e6d7485-4486-422d-8d9b-a187264b0fda"
      },
      "outputs": [
        {
          "name": "stdout",
          "output_type": "stream",
          "text": [
            "[[ 1  2]\n",
            " [ 3  4]\n",
            " [ 5  6]\n",
            " [ 7  8]\n",
            " [ 9 10]]\n"
          ]
        }
      ],
      "source": [
        "arr1_reshape = arr1.reshape(5,2)\n",
        "print(arr1_reshape)"
      ]
    },
    {
      "cell_type": "markdown",
      "metadata": {
        "id": "BtZOGA2Y8jiv"
      },
      "source": [
        "## Ordenando elementos de um array\n",
        "**np.sort()**"
      ]
    },
    {
      "cell_type": "code",
      "execution_count": null,
      "metadata": {
        "colab": {
          "base_uri": "https://localhost:8080/"
        },
        "id": "u_M-h_Ld9WpF",
        "outputId": "976a60f9-eccd-4c64-f89e-622ae0846603"
      },
      "outputs": [
        {
          "name": "stdout",
          "output_type": "stream",
          "text": [
            "[81  7  2 25 72 15]\n"
          ]
        }
      ],
      "source": [
        "arr6 = np.array([81, 7, 2, 25, 72, 15])\n",
        "print(arr6)"
      ]
    },
    {
      "cell_type": "code",
      "execution_count": null,
      "metadata": {
        "colab": {
          "base_uri": "https://localhost:8080/"
        },
        "id": "44lgMmxV9uGN",
        "outputId": "8b19ffba-f441-42b5-da3e-3e53eb02bef1"
      },
      "outputs": [
        {
          "name": "stdout",
          "output_type": "stream",
          "text": [
            "[ 2  7 15 25 72 81]\n"
          ]
        }
      ],
      "source": [
        "arr6_crescente = np.sort(arr6)\n",
        "print(arr6_crescente)"
      ]
    },
    {
      "cell_type": "code",
      "execution_count": null,
      "metadata": {
        "colab": {
          "base_uri": "https://localhost:8080/"
        },
        "id": "IIAJ9EyvjaGO",
        "outputId": "55eddc9f-81d4-42c2-b95f-73a68304df14"
      },
      "outputs": [
        {
          "name": "stdout",
          "output_type": "stream",
          "text": [
            "[81 72 25 15  7  2]\n"
          ]
        }
      ],
      "source": [
        "arr6_decrescente = np.sort(arr6)[::-1]\n",
        "print(arr6_decrescente)"
      ]
    },
    {
      "cell_type": "markdown",
      "metadata": {
        "id": "DO_u7cQekS5t"
      },
      "source": [
        "## Transformando vetor em matriz\n",
        "\n",
        "* np.newaxis = para criar uma nova dimensão"
      ]
    },
    {
      "cell_type": "code",
      "execution_count": null,
      "metadata": {
        "colab": {
          "base_uri": "https://localhost:8080/"
        },
        "id": "ekUFfYt3kbEg",
        "outputId": "30d107e5-1f43-444d-a245-749dd2eb2826"
      },
      "outputs": [
        {
          "name": "stdout",
          "output_type": "stream",
          "text": [
            "[0 1 2 3 4 5]\n",
            "(6,)\n",
            "1\n"
          ]
        }
      ],
      "source": [
        "vetor = np.array([0,1,2,3,4,5])\n",
        "print(vetor)\n",
        "print(vetor.shape)\n",
        "print(vetor.ndim)"
      ]
    },
    {
      "cell_type": "code",
      "execution_count": null,
      "metadata": {
        "colab": {
          "base_uri": "https://localhost:8080/"
        },
        "id": "QoTRqVOhk0ef",
        "outputId": "2e542ab8-4c01-4df4-9f3d-f441dbd30b71"
      },
      "outputs": [
        {
          "name": "stdout",
          "output_type": "stream",
          "text": [
            "[[0 1 2 3 4 5]]\n",
            "(1, 6)\n",
            "2\n"
          ]
        }
      ],
      "source": [
        "vetor2 = vetor[np.newaxis,:]\n",
        "print(vetor2)\n",
        "print(vetor2.shape)\n",
        "print(vetor2.ndim)"
      ]
    },
    {
      "cell_type": "code",
      "execution_count": null,
      "metadata": {
        "colab": {
          "base_uri": "https://localhost:8080/"
        },
        "id": "X4fku4jtlbxI",
        "outputId": "916e3031-0e54-44ab-8353-0a01898aa0e9"
      },
      "outputs": [
        {
          "name": "stdout",
          "output_type": "stream",
          "text": [
            "[[0]\n",
            " [1]\n",
            " [2]\n",
            " [3]\n",
            " [4]\n",
            " [5]]\n",
            "(6, 1)\n",
            "2\n"
          ]
        }
      ],
      "source": [
        "vetor3 = vetor[:, np.newaxis]\n",
        "print(vetor3)\n",
        "print(vetor3.shape)\n",
        "print(vetor3.ndim)"
      ]
    },
    {
      "cell_type": "markdown",
      "metadata": {
        "id": "x9QSVibflqaD"
      },
      "source": [
        "## Acessando dados de um array"
      ]
    },
    {
      "cell_type": "code",
      "execution_count": null,
      "metadata": {
        "colab": {
          "base_uri": "https://localhost:8080/"
        },
        "id": "EHUcEyrgl0zj",
        "outputId": "8dbdb308-4346-4103-cdce-498e6c439014"
      },
      "outputs": [
        {
          "data": {
            "text/plain": [
              "array([[0, 1, 2, 3, 4, 5]])"
            ]
          },
          "execution_count": 26,
          "metadata": {},
          "output_type": "execute_result"
        }
      ],
      "source": [
        "vetor2"
      ]
    },
    {
      "cell_type": "code",
      "execution_count": null,
      "metadata": {
        "colab": {
          "base_uri": "https://localhost:8080/"
        },
        "id": "iByvL-Hel3_e",
        "outputId": "aef7467f-2b7f-47a3-ede0-223ead998c9f"
      },
      "outputs": [
        {
          "name": "stdout",
          "output_type": "stream",
          "text": [
            "1\n"
          ]
        }
      ],
      "source": [
        "print(vetor2[0][1])"
      ]
    },
    {
      "cell_type": "code",
      "execution_count": null,
      "metadata": {
        "colab": {
          "base_uri": "https://localhost:8080/"
        },
        "id": "odBjRTCQm_J5",
        "outputId": "aff08db5-4fcc-4222-8eec-6707b953075c"
      },
      "outputs": [
        {
          "name": "stdout",
          "output_type": "stream",
          "text": [
            "[[1 2 3]\n",
            " [4 5 6]\n",
            " [7 8 9]]\n",
            "--------------\n",
            "[1 2 3 4]\n",
            "--------------\n",
            "[2 4 6 8]\n"
          ]
        }
      ],
      "source": [
        "arr7 = np.array([[1,2,3],[4,5,6],[7,8,9]])\n",
        "print (arr7)\n",
        "print('--------------')\n",
        "menor_5 = arr7[arr7<5]\n",
        "print(menor_5)\n",
        "print('--------------')\n",
        "par = arr7[arr7%2==0]\n",
        "print(par)"
      ]
    },
    {
      "cell_type": "markdown",
      "metadata": {
        "id": "oVW0nXlKmHm8"
      },
      "source": [
        "## Concatenando arrays\n",
        "**np.concatenate()**"
      ]
    },
    {
      "cell_type": "code",
      "execution_count": null,
      "metadata": {
        "id": "6XdlSH6EmZWI"
      },
      "outputs": [],
      "source": [
        "a = np.array([1,2,3,4,5])\n",
        "b = np.array([6,7,8,9,10])\n",
        "\n",
        "# Concatenando\n",
        "\n",
        "c = np.concatenate((a,b))\n",
        "d = np.concatenate((b,a))"
      ]
    },
    {
      "cell_type": "code",
      "execution_count": null,
      "metadata": {
        "colab": {
          "base_uri": "https://localhost:8080/"
        },
        "id": "nnfdm_DWmzUB",
        "outputId": "36226c9b-4143-48b3-f899-e224da76acc4"
      },
      "outputs": [
        {
          "name": "stdout",
          "output_type": "stream",
          "text": [
            "[ 1  2  3  4  5  6  7  8  9 10]\n",
            "[ 6  7  8  9 10  1  2  3  4  5]\n"
          ]
        }
      ],
      "source": [
        "print(c)\n",
        "print(d)"
      ]
    },
    {
      "cell_type": "markdown",
      "metadata": {
        "id": "P6ZVkGjKn_uv"
      },
      "source": [
        "# Operações com array\n",
        "\n",
        "* soma = array.sum()\n",
        "* valor mínimo = array.min()\n",
        "* valor máximo = array.max()\n",
        "* média = array.mean()"
      ]
    },
    {
      "cell_type": "code",
      "execution_count": null,
      "metadata": {
        "colab": {
          "base_uri": "https://localhost:8080/"
        },
        "id": "Vt6K9TsxoVKk",
        "outputId": "43359c73-e7a7-4ef0-ac34-337ae8c24d88"
      },
      "outputs": [
        {
          "data": {
            "text/plain": [
              "array([[1, 2, 3],\n",
              "       [4, 5, 6],\n",
              "       [7, 8, 9]])"
            ]
          },
          "execution_count": 40,
          "metadata": {},
          "output_type": "execute_result"
        }
      ],
      "source": [
        "arr7"
      ]
    },
    {
      "cell_type": "code",
      "execution_count": null,
      "metadata": {
        "colab": {
          "base_uri": "https://localhost:8080/"
        },
        "id": "SZX9F4fMoXg5",
        "outputId": "1c5b2551-3dc7-474d-9ca3-4c7549b89cce"
      },
      "outputs": [
        {
          "name": "stdout",
          "output_type": "stream",
          "text": [
            "45\n",
            "1\n",
            "9\n",
            "5.0\n"
          ]
        }
      ],
      "source": [
        "print(arr7.sum())\n",
        "print(arr7.min())\n",
        "print(arr7.max())\n",
        "print(arr7.mean())"
      ]
    },
    {
      "cell_type": "markdown",
      "metadata": {
        "id": "RViTzRVjowP-"
      },
      "source": [
        "## Gerando números aleatórios"
      ]
    },
    {
      "cell_type": "code",
      "execution_count": null,
      "metadata": {
        "id": "Nj5Xl4tdo1wV"
      },
      "outputs": [],
      "source": [
        "from numpy.random import default_rng"
      ]
    },
    {
      "cell_type": "code",
      "execution_count": null,
      "metadata": {
        "colab": {
          "base_uri": "https://localhost:8080/"
        },
        "id": "AebLUJpUo8Fh",
        "outputId": "a73356e1-1547-443f-c3d1-34695ca60ff0"
      },
      "outputs": [
        {
          "name": "stdout",
          "output_type": "stream",
          "text": [
            "[[6 7 9 7]\n",
            " [6 9 5 7]]\n"
          ]
        }
      ],
      "source": [
        "rng = default_rng()\n",
        "\n",
        "aleatorio = rng.integers(10, size = (2,4)) #rng.integers(numero_maximo, size =(linha,coluna))\n",
        "print(aleatorio)"
      ]
    }
  ],
  "metadata": {
    "colab": {
      "provenance": []
    },
    "kernelspec": {
      "display_name": "Python 3",
      "name": "python3"
    },
    "language_info": {
      "name": "python"
    }
  },
  "nbformat": 4,
  "nbformat_minor": 0
}
