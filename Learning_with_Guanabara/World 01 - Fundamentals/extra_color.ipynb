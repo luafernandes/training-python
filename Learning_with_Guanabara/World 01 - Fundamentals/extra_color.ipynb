{
 "cells": [
  {
   "cell_type": "markdown",
   "metadata": {},
   "source": [
    "## Colocando cores no Python\n",
    "\n",
    "Utilizando códigos escape sequence ANSI para configurar cores\n",
    "Sempre que for representar uma cor em Python utilizando esse modelo de código seguiremos um padrão:\n",
    "\n",
    "\\033[m  -> entre o [ e o m podemos inserir até três comandos separados por ';', sendo o primeiro o estilo da fonte ; segundo a cor do texto ; terceiro a cor do fundo."
   ]
  },
  {
   "cell_type": "code",
   "execution_count": 2,
   "metadata": {},
   "outputs": [],
   "source": [
    "#ex: \\033[0;33;44m"
   ]
  },
  {
   "cell_type": "markdown",
   "metadata": {},
   "source": [
    "**Códigos para estilo:**\\\n",
    "0 > nenhum estilo (none)\\\n",
    "1 > negrito (bold)\\\n",
    "4 > sublinhado (underline)\\\n",
    "7 > inverte (negative ) :o que era para o fundo vai para o texto e vice-versa"
   ]
  },
  {
   "cell_type": "markdown",
   "metadata": {},
   "source": [
    "**Códigos para texto(básico):**\\\n",
    "30 > branco\\\n",
    "31 > vermelho\\\n",
    "32 > verde\\\n",
    "33 > amarelo\\\n",
    "34 > azul\\\n",
    "35 > magenta\\\n",
    "36 > ciano\\\n",
    "37 > cinza"
   ]
  },
  {
   "cell_type": "markdown",
   "metadata": {},
   "source": [
    "**Códigos para background(básico):**\\\n",
    "40 > branco\\\n",
    "41 > vermelho\\\n",
    "42 > verde\\\n",
    "43 > amarelo\\\n",
    "44 > azul\\\n",
    "45 > magenta\\\n",
    "46 > ciano\\\n",
    "47 > cinza"
   ]
  },
  {
   "cell_type": "code",
   "execution_count": 10,
   "metadata": {},
   "outputs": [
    {
     "name": "stdout",
     "output_type": "stream",
     "text": [
      "\u001b[0;30;41mTeste\u001b[m\n"
     ]
    }
   ],
   "source": [
    "print('\\033[0;30;41mTeste\\033[m')"
   ]
  },
  {
   "cell_type": "code",
   "execution_count": 11,
   "metadata": {},
   "outputs": [
    {
     "name": "stdout",
     "output_type": "stream",
     "text": [
      "\u001b[4;33;44mTeste\u001b[m\n"
     ]
    }
   ],
   "source": [
    "print('\\033[4;33;44mTeste\\033[m')"
   ]
  },
  {
   "cell_type": "code",
   "execution_count": 12,
   "metadata": {},
   "outputs": [
    {
     "name": "stdout",
     "output_type": "stream",
     "text": [
      "\u001b[1;35;43mTeste\u001b[m\n"
     ]
    }
   ],
   "source": [
    "print('\\033[1;35;43mTeste\\033[m')"
   ]
  },
  {
   "cell_type": "code",
   "execution_count": 13,
   "metadata": {},
   "outputs": [
    {
     "name": "stdout",
     "output_type": "stream",
     "text": [
      "\u001b[30;42mTeste\u001b[m\n"
     ]
    }
   ],
   "source": [
    "print('\\033[30;42mTeste\\033[m')"
   ]
  },
  {
   "cell_type": "code",
   "execution_count": 14,
   "metadata": {},
   "outputs": [
    {
     "name": "stdout",
     "output_type": "stream",
     "text": [
      "\u001b[mTeste\u001b[m\n"
     ]
    }
   ],
   "source": [
    "print('\\033[mTeste\\033[m')"
   ]
  },
  {
   "cell_type": "code",
   "execution_count": 15,
   "metadata": {},
   "outputs": [
    {
     "name": "stdout",
     "output_type": "stream",
     "text": [
      "\u001b[7;30mTeste\u001b[m\n"
     ]
    }
   ],
   "source": [
    "print('\\033[7;30mTeste\\033[m')"
   ]
  },
  {
   "cell_type": "code",
   "execution_count": 30,
   "metadata": {},
   "outputs": [
    {
     "name": "stdout",
     "output_type": "stream",
     "text": [
      "Olá! Muito prazer em te conhecer, \u001b[1;36mLuciana\u001b[0m !\n"
     ]
    }
   ],
   "source": [
    "nome = 'Luciana'\n",
    "print('Olá! Muito prazer em te conhecer, {}{}{} !'.format('\\033[1;36m',nome,'\\033[0m'))"
   ]
  }
 ],
 "metadata": {
  "kernelspec": {
   "display_name": "Python 3",
   "language": "python",
   "name": "python3"
  },
  "language_info": {
   "codemirror_mode": {
    "name": "ipython",
    "version": 3
   },
   "file_extension": ".py",
   "mimetype": "text/x-python",
   "name": "python",
   "nbconvert_exporter": "python",
   "pygments_lexer": "ipython3",
   "version": "3.12.1"
  }
 },
 "nbformat": 4,
 "nbformat_minor": 2
}
